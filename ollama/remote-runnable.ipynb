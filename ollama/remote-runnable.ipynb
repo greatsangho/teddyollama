{
 "cells": [
  {
   "cell_type": "code",
   "execution_count": 2,
   "metadata": {},
   "outputs": [
    {
     "name": "stdout",
     "output_type": "stream",
     "text": [
      "딥러닝은 인공지능(AI)의 한 분야로, 대량의 데이터에서 복잡한 패턴과 관계를 학습하는 데 중점을 둔 기계학습 알고리즘을 말합니다.\n",
      "\n",
      "기계학습은 컴퓨터가 새로운 데이터에 기반하여 스스로 개선할 수 있는 능력을 말하며, 이는 전통적인 소프트웨어 프로그램이 할 수 없는 일입니다. 반면, 딥러닝은 특히 대량의 데이터에서 복잡한 패턴과 관계를 학습하는 데 중점을 둔 기계학습의 한 분야입니다.\n",
      "\n",
      "딥러닝 알고리즘은 인간의 뇌와 유사한 방식으로 작동하도록 설계되었습니다. 즉, 서로 연결된 여러 층의 뉴런으로 구성되어 있습니다. 각 층은 입력 데이터를 처리하고 다음 층에 출력 데이터를 전달합니다. 이 과정을 깊이 학습이라고 합니다.\n",
      "\n",
      "딥러닝 알고리즘은 이미지 인식, 음성 인식, 자연어 처리 등 다양한 작업에서 놀라운 성과를 거두었습니다. 이러한 알고리즘들은 인간과 유사한 방식으로 복잡한 데이터로부터 패턴을 인식하고 추론할 수 있습니다.\n",
      "\n",
      "딥러닝의 주요 장점 중 하나는 대량의 데이터를 다룰 수 있다는 것입니다. 전통적인 기계학습 알고리즘은 일반적으로 소량의 데이터에 최적화되어 있지만, 딥러닝 알고리즘은 대량의 데이터에서 학습하도록 설계되었습니다.\n",
      "\n",
      "또 다른 장점은 유연성입니다. 딥러닝 알고리즘은 다양한 작업에 적응할 수 있으며 새로운 데이터를 기반으로 지속적으로 개선될 수 있습니다.\n",
      "\n",
      "그러나 단점도 있습니다. 딥러닝 알고리즘은 계산 비용이 많이 들고, 대량의 데이터와 강력한 하드웨어가 필요합니다. 또한 해석하기 어려울 수 있어, 의사결정 과정을 이해하기 어렵습니다.\n",
      "\n",
      "전반적으로, 딥러닝은 인공지능 분야에서 매우 활발한 연구 분야이며, 다양한 작업에서 놀라운 성과를 거두었습니다. 그러나 여전히 해결해야 할 도전 과제가 있으며, 앞으로 더 발전할 여지가 있습니다.\n",
      "\n",
      "딥러닝에 대해 궁금한 점이 있으신가요?"
     ]
    }
   ],
   "source": [
    "from langserve import RemoteRunnable\n",
    "\n",
    "# 서버 주소 설정(localhost 기준)\n",
    "chain = RemoteRunnable(\"http://127.0.0.1:8000/prompt/\")\n",
    "\n",
    "# 체인 실행\n",
    "for token in chain.stream({\"topic\": \"딥러닝에 대해서 알려줘\"}):\n",
    "    print(token, end=\"\")"
   ]
  },
  {
   "cell_type": "code",
   "execution_count": null,
   "metadata": {},
   "outputs": [],
   "source": []
  }
 ],
 "metadata": {
  "kernelspec": {
   "display_name": ".venv",
   "language": "python",
   "name": "python3"
  },
  "language_info": {
   "codemirror_mode": {
    "name": "ipython",
    "version": 3
   },
   "file_extension": ".py",
   "mimetype": "text/x-python",
   "name": "python",
   "nbconvert_exporter": "python",
   "pygments_lexer": "ipython3",
   "version": "3.12.6"
  }
 },
 "nbformat": 4,
 "nbformat_minor": 2
}
